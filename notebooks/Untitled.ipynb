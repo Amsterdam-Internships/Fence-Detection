{
 "cells": [
  {
   "cell_type": "code",
   "execution_count": 1,
   "id": "3ad36230",
   "metadata": {},
   "outputs": [],
   "source": [
    "import os\n",
    "import cv2\n",
    "\n",
    "import numpy as np\n",
    "import matplotlib.pyplot as plt"
   ]
  },
  {
   "cell_type": "code",
   "execution_count": 12,
   "id": "9f3bfcbb",
   "metadata": {},
   "outputs": [
    {
     "name": "stdout",
     "output_type": "stream",
     "text": [
      "[[   0  178]\n",
      " [ 105  177]\n",
      " [ 145  176]\n",
      " [ 358  171]\n",
      " [ 511  168]\n",
      " [ 630  171]\n",
      " [ 792  170]\n",
      " [ 940  171]\n",
      " [ 991  171]\n",
      " [1024  172]]\n"
     ]
    },
    {
     "data": {
      "image/png": "[encoded data removed]",
      "text/plain": [
       "<Figure size 432x288 with 1 Axes>"
      ]
     },
     "metadata": {
      "needs_background": "light"
     },
     "output_type": "display_data"
    },
    {
     "name": "stdout",
     "output_type": "stream",
     "text": [
      "[[0. 0. 0. ... 0. 0. 0.]\n",
      " [0. 0. 0. ... 0. 0. 0.]\n",
      " [0. 0. 0. ... 0. 0. 0.]\n",
      " ...\n",
      " [0. 0. 0. ... 0. 0. 0.]\n",
      " [0. 0. 0. ... 0. 0. 0.]\n",
      " [0. 0. 0. ... 0. 0. 0.]]\n"
     ]
    }
   ],
   "source": [
    "# multiline = \"751.75,228.36;603.68,221.16;523.47,218.90;394.12,217.05;0.00,216.25\"\n",
    "multiline = \"0.80,178.80;105.28,177.52;145.31,176.29;358.86,171.58;511.12,168.21;630.36,171.58;792.72,170.23;940.40,171.00;991.30,171.70;1024.00,172.70\"\n",
    "\n",
    "points = multiline.split(';')\n",
    "points = [point.split(',') for point in points]\n",
    "points = np.array(points, dtype=float)\n",
    "points = points.astype(int)\n",
    "# points = points.reshape((-1, 1, 2))\n",
    "\n",
    "print(points)\n",
    "\n",
    "# image = cv2.imread(os.path.join('..', 'data', 'images', '2021-01-14-TMX7316010203-001951-pano_0000_000301-r.jpg'))\n",
    "# print(image.shape)\n",
    "image = np.zeros((512, 1024))\n",
    "image = cv2.polylines(image, [points], False, 1, 6)\n",
    "\n",
    "plt.imshow(image)\n",
    "plt.show()\n",
    "print(image)"
   ]
  },
  {
   "cell_type": "code",
   "execution_count": 3,
   "id": "7c3ef1d4",
   "metadata": {},
   "outputs": [
    {
     "data": {
      "image/png": "[encoded data removed]",
      "text/plain": [
       "<Figure size 432x288 with 1 Axes>"
      ]
     },
     "metadata": {
      "needs_background": "light"
     },
     "output_type": "display_data"
    }
   ],
   "source": [
    "plt.scatter(points[:, 0], points[:, 1])\n",
    "plt.show()"
   ]
  },
  {
   "cell_type": "code",
   "execution_count": 4,
   "id": "4cba1aa7",
   "metadata": {},
   "outputs": [
    {
     "name": "stdout",
     "output_type": "stream",
     "text": [
      "-0.5456575934157205\n",
      "-1.4320961841646465\n",
      "-1.3447243887023312\n",
      "-1.123302714075429\n",
      "1.4441255309358456\n",
      "-0.3536731592464612\n",
      "0.3871277541509513\n",
      "0.0\n",
      "1.7357045889283889\n"
     ]
    }
   ],
   "source": [
    "for source, target in zip(points, points[1:]):\n",
    "    source_x, source_y = source\n",
    "    target_x, target_y = target\n",
    "    \n",
    "    radians = np.arctan2(target_y - source_y, target_x - source_x)\n",
    "    degrees = np.rad2deg(radians)\n",
    "    \n",
    "    print(degrees)"
   ]
  },
  {
   "cell_type": "code",
   "execution_count": null,
   "id": "c4c7c8e5",
   "metadata": {},
   "outputs": [],
   "source": []
  }
 ],
 "metadata": {
  "kernelspec": {
   "display_name": "Python 3 (ipykernel)",
   "language": "python",
   "name": "python3"
  },
  "language_info": {
   "codemirror_mode": {
    "name": "ipython",
    "version": 3
   },
   "file_extension": ".py",
   "mimetype": "text/x-python",
   "name": "python",
   "nbconvert_exporter": "python",
   "pygments_lexer": "ipython3",
   "version": "3.8.12"
  }
 },
 "nbformat": 4,
 "nbformat_minor": 5
}
