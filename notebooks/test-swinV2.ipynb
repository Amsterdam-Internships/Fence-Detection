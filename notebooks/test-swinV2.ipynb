{
 "cells": [
  {
   "cell_type": "code",
   "execution_count": 1,
   "id": "73164de2",
   "metadata": {},
   "outputs": [],
   "source": [
    "import os\n",
    "import sys\n",
    "import torch\n",
    "\n",
    "sys.path.insert(0, '../')\n",
    "from processing.loaders import AmsterdamDataset"
   ]
  },
  {
   "cell_type": "code",
   "execution_count": 2,
   "id": "40e0a6e8",
   "metadata": {},
   "outputs": [],
   "source": [
    "# import transformers\n",
    "from swin_transformer_v2 import *"
   ]
  },
  {
   "cell_type": "code",
   "execution_count": 3,
   "id": "d8a1e7f8",
   "metadata": {},
   "outputs": [],
   "source": [
    "device = 'cuda' if torch.cuda.is_available() else 'cpu'"
   ]
  },
  {
   "cell_type": "code",
   "execution_count": 4,
   "id": "a2bfee23",
   "metadata": {},
   "outputs": [
    {
     "name": "stderr",
     "output_type": "stream",
     "text": [
      "C:\\Users\\Jorrit\\anaconda3\\envs\\msc-thesis\\lib\\site-packages\\torch\\functional.py:445: UserWarning: torch.meshgrid: in an upcoming release, it will be required to pass the indexing argument. (Triggered internally at  ..\\aten\\src\\ATen\\native\\TensorShape.cpp:2157.)\n",
      "  return _VF.meshgrid(tensors, **kwargs)  # type: ignore[attr-defined]\n"
     ]
    }
   ],
   "source": [
    "swin_transformer = swin_transformer_v2_t(in_channels=3,\n",
    "                                         window_size=8,\n",
    "                                         input_resolution=(512, 1024),\n",
    "                                         sequential_self_attention=False,\n",
    "                                         use_checkpoint=False)"
   ]
  },
  {
   "cell_type": "code",
   "execution_count": 5,
   "id": "6037d0d5",
   "metadata": {},
   "outputs": [],
   "source": [
    "from torchvision.transforms import ToTensor\n",
    "\n",
    "root = os.path.join('..', 'data', 'images', 'for_spectrum_sample')\n",
    "\n",
    "dataset = AmsterdamDataset(os.path.join(root, 'annotations.csv'),\n",
    "                           os.path.join(root, 'images'),\n",
    "                           ToTensor())"
   ]
  },
  {
   "cell_type": "code",
   "execution_count": 7,
   "id": "7d025e3b",
   "metadata": {},
   "outputs": [
    {
     "name": "stdout",
     "output_type": "stream",
     "text": [
      "[0. 1. 0.]\n",
      "torch.Size([1, 96, 128, 256])\n",
      "torch.Size([1, 192, 64, 128])\n",
      "torch.Size([1, 384, 32, 64])\n",
      "torch.Size([1, 768, 16, 32])\n"
     ]
    }
   ],
   "source": [
    "image, label = dataset[0]\n",
    "\n",
    "features = swin_transformer(torch.unsqueeze(image, 0))\n",
    "print(label)\n",
    "\n",
    "for feature in features:\n",
    "    print(feature.shape)"
   ]
  },
  {
   "cell_type": "code",
   "execution_count": 8,
   "id": "201099e2",
   "metadata": {},
   "outputs": [
    {
     "data": {
      "text/plain": [
       "1"
      ]
     },
     "execution_count": 8,
     "metadata": {},
     "output_type": "execute_result"
    }
   ],
   "source": [
    "torch.cuda.device_count()"
   ]
  },
  {
   "cell_type": "code",
   "execution_count": null,
   "id": "ef2ed360",
   "metadata": {},
   "outputs": [],
   "source": []
  }
 ],
 "metadata": {
  "kernelspec": {
   "display_name": "Python 3 (ipykernel)",
   "language": "python",
   "name": "python3"
  },
  "language_info": {
   "codemirror_mode": {
    "name": "ipython",
    "version": 3
   },
   "file_extension": ".py",
   "mimetype": "text/x-python",
   "name": "python",
   "nbconvert_exporter": "python",
   "pygments_lexer": "ipython3",
   "version": "3.8.12"
  }
 },
 "nbformat": 4,
 "nbformat_minor": 5
}
