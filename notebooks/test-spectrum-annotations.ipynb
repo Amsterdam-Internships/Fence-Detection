{
 "cells": [
  {
   "cell_type": "code",
   "execution_count": 1,
   "id": "11f5328e",
   "metadata": {},
   "outputs": [
    {
     "name": "stderr",
     "output_type": "stream",
     "text": [
      "C:\\Users\\jorri\\anaconda3\\envs\\msc-thesis\\lib\\site-packages\\tqdm\\auto.py:22: TqdmWarning: IProgress not found. Please update jupyter and ipywidgets. See https://ipywidgets.readthedocs.io/en/stable/user_install.html\n",
      "  from .autonotebook import tqdm as notebook_tqdm\n"
     ]
    }
   ],
   "source": [
    "import os\n",
    "import sys\n",
    "import cv2\n",
    "\n",
    "import numpy as np\n",
    "import matplotlib.pyplot as plt\n",
    "\n",
    "sys.path.insert(0, '..')\n",
    "from loaders.datasets import AmsterdamDataset"
   ]
  },
  {
   "cell_type": "code",
   "execution_count": 2,
   "id": "4447a597",
   "metadata": {},
   "outputs": [
    {
     "name": "stdout",
     "output_type": "stream",
     "text": [
      "loading annotations into memory...\n",
      "Done (t=0.31s)\n",
      "creating index...\n",
      "index created!\n"
     ]
    }
   ],
   "source": [
    "images = os.path.join('..', 'data', 'images')\n",
    "annotations = os.path.join('..', 'data', 'spectrum-batch-1', 'annotations.json')\n",
    "\n",
    "data = AmsterdamDataset(images, annotations)"
   ]
  },
  {
   "cell_type": "code",
   "execution_count": 3,
   "id": "b2d8efca",
   "metadata": {},
   "outputs": [
    {
     "data": {
      "text/plain": [
       "1000"
      ]
     },
     "execution_count": 3,
     "metadata": {},
     "output_type": "execute_result"
    }
   ],
   "source": [
    "len(data)"
   ]
  },
  {
   "cell_type": "code",
   "execution_count": 4,
   "id": "673a0caf",
   "metadata": {
    "scrolled": false
   },
   "outputs": [
    {
     "ename": "SyntaxError",
     "evalue": "invalid syntax (2165863910.py, line 17)",
     "output_type": "error",
     "traceback": [
      "\u001b[1;36m  Input \u001b[1;32mIn [4]\u001b[1;36m\u001b[0m\n\u001b[1;33m    count += 5:\u001b[0m\n\u001b[1;37m              ^\u001b[0m\n\u001b[1;31mSyntaxError\u001b[0m\u001b[1;31m:\u001b[0m invalid syntax\n"
     ]
    }
   ],
   "source": [
    "%matplotlib inline\n",
    "plt.rcParams[\"figure.figsize\"] = (20,10)\n",
    "\n",
    "count = 0\n",
    "\n",
    "for image, mask in data:\n",
    "    print(count)\n",
    "    fig, axs = plt.subplots(1, 2)\n",
    "    \n",
    "    axs[0].imshow(image)\n",
    "    axs[1].imshow(mask)\n",
    "    \n",
    "    axs[0].axis('off'), axs[1].axis('off')\n",
    "    plt.show()\n",
    "    \n",
    "    # stop\n",
    "    count += 5:\n",
    "        break"
   ]
  },
  {
   "cell_type": "code",
   "execution_count": null,
   "id": "ac299f5c",
   "metadata": {},
   "outputs": [],
   "source": []
  }
 ],
 "metadata": {
  "kernelspec": {
   "display_name": "Python 3 (ipykernel)",
   "language": "python",
   "name": "python3"
  },
  "language_info": {
   "codemirror_mode": {
    "name": "ipython",
    "version": 3
   },
   "file_extension": ".py",
   "mimetype": "text/x-python",
   "name": "python",
   "nbconvert_exporter": "python",
   "pygments_lexer": "ipython3",
   "version": "3.8.12"
  }
 },
 "nbformat": 4,
 "nbformat_minor": 5
}
