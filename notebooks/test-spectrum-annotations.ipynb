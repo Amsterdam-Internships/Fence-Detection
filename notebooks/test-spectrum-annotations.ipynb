{
 "cells": [
  {
   "cell_type": "code",
   "execution_count": 1,
   "id": "11f5328e",
   "metadata": {},
   "outputs": [],
   "source": [
    "import os\n",
    "import sys\n",
    "import cv2\n",
    "\n",
    "import numpy as np\n",
    "import matplotlib.pyplot as plt\n",
    "\n",
    "sys.path.insert(0, '..')\n",
    "from loaders.datasets import AmsterdamDataset"
   ]
  },
  {
   "cell_type": "code",
   "execution_count": 2,
   "id": "4447a597",
   "metadata": {},
   "outputs": [
    {
     "name": "stdout",
     "output_type": "stream",
     "text": [
      "loading annotations into memory...\n",
      "Done (t=0.37s)\n",
      "creating index...\n",
      "index created!\n"
     ]
    }
   ],
   "source": [
    "images = os.path.join('..', 'data', 'images')\n",
    "annotations = os.path.join('..', 'data', 'fences-quays', 'annotations', 'train-annotations-6px.json')\n",
    "\n",
    "data = AmsterdamDataset(images, annotations, train=True)"
   ]
  },
  {
   "cell_type": "code",
   "execution_count": 3,
   "id": "b2d8efca",
   "metadata": {},
   "outputs": [
    {
     "data": {
      "text/plain": [
       "1106"
      ]
     },
     "execution_count": 3,
     "metadata": {},
     "output_type": "execute_result"
    }
   ],
   "source": [
    "len(data)"
   ]
  },
  {
   "cell_type": "code",
   "execution_count": 4,
   "id": "673a0caf",
   "metadata": {
    "scrolled": false
   },
   "outputs": [],
   "source": [
    "%matplotlib inline\n",
    "plt.rcParams[\"figure.figsize\"] = (30,15)\n",
    "\n",
    "for i, (image, mask) in enumerate(data):\n",
    "    if np.count_nonzero(mask) < 10:\n",
    "        print(i)\n",
    "        fig, axs = plt.subplots(1, 2)\n",
    "\n",
    "        axs[0].imshow(image)\n",
    "        axs[1].imshow(mask)\n",
    "\n",
    "        axs[0].axis('off'), axs[1].axis('off')\n",
    "        plt.show()\n",
    "\n",
    "#     totals[0] += np.count_nonzero(mask == 0)\n",
    "#     totals[1] += np.count_nonzero(mask == 1)"
   ]
  },
  {
   "cell_type": "code",
   "execution_count": 5,
   "id": "04599aa8",
   "metadata": {},
   "outputs": [
    {
     "ename": "IndexError",
     "evalue": "list index out of range",
     "output_type": "error",
     "traceback": [
      "\u001b[1;31m---------------------------------------------------------------------------\u001b[0m",
      "\u001b[1;31mIndexError\u001b[0m                                Traceback (most recent call last)",
      "\u001b[1;32m~\\AppData\\Local\\Temp/ipykernel_1424/33851475.py\u001b[0m in \u001b[0;36m<module>\u001b[1;34m\u001b[0m\n\u001b[1;32m----> 1\u001b[1;33m \u001b[0mdata\u001b[0m\u001b[1;33m.\u001b[0m\u001b[0mimages\u001b[0m\u001b[1;33m[\u001b[0m\u001b[1;36m1135\u001b[0m\u001b[1;33m]\u001b[0m\u001b[1;33m\u001b[0m\u001b[1;33m\u001b[0m\u001b[0m\n\u001b[0m",
      "\u001b[1;31mIndexError\u001b[0m: list index out of range"
     ]
    }
   ],
   "source": [
    "data.images[1135]"
   ]
  },
  {
   "cell_type": "code",
   "execution_count": null,
   "id": "abb4e440",
   "metadata": {},
   "outputs": [],
   "source": [
    "for ann in data.annotations:\n",
    "    if ann['image_id'] == 908:\n",
    "        print(ann)"
   ]
  },
  {
   "cell_type": "code",
   "execution_count": null,
   "id": "d3016709",
   "metadata": {},
   "outputs": [],
   "source": []
  }
 ],
 "metadata": {
  "kernelspec": {
   "display_name": "Python 3 (ipykernel)",
   "language": "python",
   "name": "python3"
  },
  "language_info": {
   "codemirror_mode": {
    "name": "ipython",
    "version": 3
   },
   "file_extension": ".py",
   "mimetype": "text/x-python",
   "name": "python",
   "nbconvert_exporter": "python",
   "pygments_lexer": "ipython3",
   "version": "3.8.12"
  }
 },
 "nbformat": 4,
 "nbformat_minor": 5
}
