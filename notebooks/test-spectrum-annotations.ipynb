{
 "cells": [
  {
   "cell_type": "code",
   "execution_count": 1,
   "id": "11f5328e",
   "metadata": {},
   "outputs": [],
   "source": [
    "import os\n",
    "import sys\n",
    "import cv2\n",
    "\n",
    "import numpy as np\n",
    "import matplotlib.pyplot as plt\n",
    "\n",
    "sys.path.insert(0, '..')\n",
    "from loaders.datasets import AmsterdamDataset"
   ]
  },
  {
   "cell_type": "code",
   "execution_count": 2,
   "id": "4447a597",
   "metadata": {},
   "outputs": [
    {
     "name": "stdout",
     "output_type": "stream",
     "text": [
      "loading annotations into memory...\n",
      "Done (t=0.15s)\n",
      "creating index...\n",
      "index created!\n"
     ]
    }
   ],
   "source": [
    "images = os.path.join('..', 'data', 'images')\n",
    "annotations = os.path.join('..', 'data', 'spectrum-batch-1', 'annotations.json')\n",
    "\n",
    "data = AmsterdamDataset(images, annotations)"
   ]
  },
  {
   "cell_type": "code",
   "execution_count": 3,
   "id": "b2d8efca",
   "metadata": {},
   "outputs": [
    {
     "data": {
      "text/plain": [
       "693"
      ]
     },
     "execution_count": 3,
     "metadata": {},
     "output_type": "execute_result"
    }
   ],
   "source": [
    "len(data)"
   ]
  },
  {
   "cell_type": "code",
   "execution_count": 4,
   "id": "673a0caf",
   "metadata": {
    "scrolled": false
   },
   "outputs": [
    {
     "name": "stdout",
     "output_type": "stream",
     "text": [
      "[280921503, 82410081]\n"
     ]
    }
   ],
   "source": [
    "%matplotlib inline\n",
    "plt.rcParams[\"figure.figsize\"] = (30,15)\n",
    "\n",
    "count = 0\n",
    "totals = [0, 0]\n",
    "\n",
    "for image, mask in data:\n",
    "#     print(count)\n",
    "#     fig, axs = plt.subplots(1, 2)\n",
    "    \n",
    "#     axs[0].imshow(image)\n",
    "#     axs[1].imshow(mask)\n",
    "    \n",
    "#     axs[0].axis('off'), axs[1].axis('off')\n",
    "#     plt.show()\n",
    "\n",
    "    totals[0] += np.count_nonzero(mask == 0)\n",
    "    totals[1] += np.count_nonzero(mask == 1)\n",
    "    \n",
    "    # stop\n",
    "#     count += 1\n",
    "#     if count > 5:\n",
    "#         break\n",
    "        \n",
    "print(totals)"
   ]
  },
  {
   "cell_type": "code",
   "execution_count": 5,
   "id": "ac299f5c",
   "metadata": {},
   "outputs": [
    {
     "data": {
      "text/plain": [
       "3.408824498061105"
      ]
     },
     "execution_count": 5,
     "metadata": {},
     "output_type": "execute_result"
    }
   ],
   "source": [
    "totals[0] / totals[1]"
   ]
  },
  {
   "cell_type": "code",
   "execution_count": null,
   "id": "04599aa8",
   "metadata": {},
   "outputs": [],
   "source": []
  }
 ],
 "metadata": {
  "kernelspec": {
   "display_name": "Python 3 (ipykernel)",
   "language": "python",
   "name": "python3"
  },
  "language_info": {
   "codemirror_mode": {
    "name": "ipython",
    "version": 3
   },
   "file_extension": ".py",
   "mimetype": "text/x-python",
   "name": "python",
   "nbconvert_exporter": "python",
   "pygments_lexer": "ipython3",
   "version": "3.8.12"
  }
 },
 "nbformat": 4,
 "nbformat_minor": 5
}
