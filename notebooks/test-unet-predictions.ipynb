{
 "cells": [
  {
   "cell_type": "code",
   "execution_count": 1,
   "id": "ed40aae5",
   "metadata": {},
   "outputs": [],
   "source": [
    "import os\n",
    "import sys\n",
    "import torch\n",
    "\n",
    "import numpy as np\n",
    "import matplotlib.pyplot as plt\n",
    "\n",
    "from torchmetrics import JaccardIndex\n",
    "sys.path.insert(0, '..')\n",
    "from loaders.datasets import AmsterdamDataset"
   ]
  },
  {
   "cell_type": "code",
   "execution_count": 2,
   "id": "9427b0e5",
   "metadata": {},
   "outputs": [],
   "source": [
    "def visualize(**images):\n",
    "    \"\"\"\n",
    "    Plot images in one row\n",
    "    \"\"\"\n",
    "    n_images = len(images)\n",
    "    plt.figure(figsize=(20,8))\n",
    "    for idx, (name, image) in enumerate(images.items()):\n",
    "#         print(idx)\n",
    "        plt.subplot(1, n_images, idx + 1)\n",
    "        plt.xticks([]); \n",
    "        plt.yticks([])\n",
    "        # get title from the parameter names\n",
    "        plt.title(name.replace('_',' ').title(), fontsize=20)\n",
    "        plt.imshow(image)\n",
    "    plt.show()"
   ]
  },
  {
   "cell_type": "code",
   "execution_count": 3,
   "id": "2e8d6587",
   "metadata": {},
   "outputs": [
    {
     "name": "stdout",
     "output_type": "stream",
     "text": [
      "loading annotations into memory...\n",
      "Done (t=0.01s)\n",
      "creating index...\n",
      "index created!\n"
     ]
    }
   ],
   "source": [
    "model = torch.load(os.path.join('..', 'models', 'cnns', 'new unet', 'best_model.pth'))\n",
    "\n",
    "# images = os.path.join('..', 'data', 'images')\n",
    "# annotations = os.path.join('..', 'data', 'spectrum-batch-1', 'annotations.json')\n",
    "\n",
    "images = os.path.join('..', 'data', 'self-annotated-sample', 'images')\n",
    "annotations = os.path.join('..', 'data', 'self-annotated-sample', 'annotations.json')\n",
    "\n",
    "data = AmsterdamDataset(images, annotations)"
   ]
  },
  {
   "cell_type": "code",
   "execution_count": 4,
   "id": "6ffc6635",
   "metadata": {
    "scrolled": false
   },
   "outputs": [
    {
     "name": "stdout",
     "output_type": "stream",
     "text": [
      "tensor([0.9264, 0.0741])\n"
     ]
    }
   ],
   "source": [
    "%matplotlib inline\n",
    "\n",
    "miou = 0\n",
    "IoU = JaccardIndex(num_classes=2, reduction='none')\n",
    "\n",
    "for i, (image, mask) in enumerate(data):\n",
    "    mask = np.squeeze(mask)\n",
    "    x = torch.from_numpy(np.transpose(image, (2, 0, 1)).astype('float32')).unsqueeze(0).to('cuda:0')\n",
    "    \n",
    "    pred = model(x).detach().squeeze().cpu()#.numpy()\n",
    "#     pred = np.transpose(pred, (1, 2, 0))\n",
    "    \n",
    "#     visualize(original_image=image,\n",
    "#               ground_truth=mask,\n",
    "#               prediction=pred)\n",
    "#     print(pred.dtype)\n",
    "    miou += IoU(torch.as_tensor(pred).unsqueeze(0), torch.as_tensor(mask).unsqueeze(0))\n",
    "    \n",
    "print(miou / (i + 1))"
   ]
  },
  {
   "cell_type": "code",
   "execution_count": null,
   "id": "6548c94b",
   "metadata": {},
   "outputs": [],
   "source": []
  },
  {
   "cell_type": "code",
   "execution_count": null,
   "id": "0643cc7b",
   "metadata": {},
   "outputs": [],
   "source": []
  }
 ],
 "metadata": {
  "kernelspec": {
   "display_name": "Python 3 (ipykernel)",
   "language": "python",
   "name": "python3"
  },
  "language_info": {
   "codemirror_mode": {
    "name": "ipython",
    "version": 3
   },
   "file_extension": ".py",
   "mimetype": "text/x-python",
   "name": "python",
   "nbconvert_exporter": "python",
   "pygments_lexer": "ipython3",
   "version": "3.8.12"
  }
 },
 "nbformat": 4,
 "nbformat_minor": 5
}
