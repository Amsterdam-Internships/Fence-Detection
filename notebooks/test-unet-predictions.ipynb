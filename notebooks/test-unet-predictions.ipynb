{
 "cells": [
  {
   "cell_type": "code",
   "execution_count": 1,
   "id": "183014c4",
   "metadata": {},
   "outputs": [],
   "source": [
    "import os\n",
    "import sys\n",
    "import cv2\n",
    "import torch\n",
    "\n",
    "import numpy as np\n",
    "import albumentations as album\n",
    "import matplotlib.pyplot as plt\n",
    "import segmentation_models_pytorch as smp\n",
    "\n",
    "from torchmetrics import JaccardIndex, ConfusionMatrix\n",
    "\n",
    "sys.path.insert(0, '..')\n",
    "from loaders.datasets import AmsterdamDataset\n",
    "from utils.general import visualize\n",
    "from utils.augmentation import *\n",
    "from utils.metrics import BlobOverlap"
   ]
  },
  {
   "cell_type": "code",
   "execution_count": 2,
   "id": "57ac8656",
   "metadata": {},
   "outputs": [
    {
     "name": "stdout",
     "output_type": "stream",
     "text": [
      "loading annotations into memory...\n",
      "Done (t=0.03s)\n",
      "creating index...\n",
      "index created!\n"
     ]
    }
   ],
   "source": [
    "preprocessing_fn = smp.encoders.get_preprocessing_fn('resnet18', 'imagenet')\n",
    "model = torch.load(os.path.join('..', 'models', 'weights', 'unetpp.pth'))\n",
    "\n",
    "# images = os.path.join('..', 'data', 'images')\n",
    "# annotations = os.path.join('..', 'data', 'spectrum-batch-1', 'annotations.json')\n",
    "\n",
    "images = os.path.join('..', 'data', 'images')\n",
    "annotations = os.path.join('..', 'data', 'fences-quays', 'annotations', 'test-annotations-6px.json')\n",
    "\n",
    "data = AmsterdamDataset(images, annotations, preprocessing=get_preprocessing(preprocessing_fn))"
   ]
  },
  {
   "cell_type": "code",
   "execution_count": 3,
   "id": "dd7ebd02",
   "metadata": {
    "scrolled": false
   },
   "outputs": [],
   "source": [
    "# print(model)"
   ]
  },
  {
   "cell_type": "code",
   "execution_count": 4,
   "id": "1be2a801",
   "metadata": {
    "scrolled": false
   },
   "outputs": [
    {
     "name": "stdout",
     "output_type": "stream",
     "text": [
      "0\n",
      "1\n",
      "2\n",
      "3\n",
      "4\n",
      "5\n",
      "6\n",
      "7\n",
      "8\n",
      "9\n",
      "10\n",
      "11\n",
      "12\n",
      "13\n",
      "14\n",
      "15\n",
      "16\n",
      "17\n",
      "18\n",
      "19\n",
      "20\n",
      "21\n",
      "22\n",
      "23\n",
      "24\n",
      "25\n",
      "26\n",
      "27\n",
      "28\n",
      "29\n",
      "30\n",
      "31\n",
      "32\n",
      "33\n",
      "34\n",
      "35\n",
      "36\n",
      "37\n",
      "38\n",
      "39\n",
      "40\n",
      "41\n",
      "42\n",
      "43\n",
      "44\n",
      "45\n",
      "46\n",
      "47\n",
      "48\n",
      "49\n",
      "50\n",
      "51\n",
      "52\n",
      "53\n",
      "54\n",
      "55\n",
      "56\n",
      "57\n",
      "58\n",
      "59\n",
      "60\n",
      "61\n",
      "62\n",
      "63\n",
      "64\n",
      "65\n",
      "66\n",
      "67\n",
      "68\n",
      "69\n",
      "70\n",
      "71\n",
      "72\n",
      "73\n",
      "74\n",
      "75\n",
      "76\n",
      "77\n",
      "78\n",
      "79\n",
      "80\n",
      "81\n",
      "82\n",
      "83\n",
      "84\n",
      "85\n",
      "86\n",
      "87\n",
      "88\n",
      "89\n",
      "90\n",
      "91\n",
      "92\n",
      "93\n",
      "94\n",
      "95\n",
      "96\n",
      "tensor([0.9827, 0.6041])\n"
     ]
    },
    {
     "data": {
      "text/plain": [
       "0.8622464576685328"
      ]
     },
     "execution_count": 4,
     "metadata": {},
     "output_type": "execute_result"
    }
   ],
   "source": [
    "%matplotlib inline\n",
    "\n",
    "miou = 0\n",
    "IoU = JaccardIndex(num_classes=2, reduction='none')\n",
    "BO = BlobOverlap()\n",
    "\n",
    "\n",
    "imdir = os.path.join('..', 'data', 'fences-quays', 'images')\n",
    "\n",
    "\n",
    "preds = []\n",
    "\n",
    "for i, (image, mask) in enumerate(data):\n",
    "    print(i)\n",
    "    img = plt.imread(os.path.join(imdir, data.images[i]['file_name']))\n",
    "    \n",
    "    mask = np.squeeze(mask)\n",
    "    x = torch.as_tensor(image).unsqueeze(0).cuda()\n",
    "    \n",
    "    pred = model(x).detach().squeeze().cpu()#.numpy()\n",
    "    \n",
    "    BO.update(pred.numpy(), mask.squeeze())\n",
    "    \n",
    "#     visualize(image=img,\n",
    "#               ground_truth=mask,\n",
    "#               prediction=pred)\n",
    "\n",
    "#     print(IoU(torch.as_tensor(pred).unsqueeze(0), torch.as_tensor(mask).unsqueeze(0).int()))\n",
    "    miou += IoU(torch.as_tensor(pred).unsqueeze(0), torch.as_tensor(mask).unsqueeze(0).int())\n",
    "    \n",
    "    \n",
    "    preds.append(pred)\n",
    "#     if i > 5:\n",
    "#         break\n",
    "    \n",
    "print(miou / (i + 1))\n",
    "BO.compute()"
   ]
  },
  {
   "cell_type": "code",
   "execution_count": 5,
   "id": "39036eeb",
   "metadata": {
    "scrolled": false
   },
   "outputs": [
    {
     "data": {
      "image/png": "[encoded data removed]",
      "text/plain": [
       "<Figure size 1440x576 with 1 Axes>"
      ]
     },
     "metadata": {},
     "output_type": "display_data"
    }
   ],
   "source": [
    "from sklearn.cluster import DBSCAN\n",
    "\n",
    "idx=68\n",
    "\n",
    "visualize(prediction=preds[idx])\n",
    "\n",
    "pred_np = preds[idx].numpy()\n",
    "ones_xy_mask = np.flip(np.column_stack(np.where(pred_np > 0.5)), axis=1)\n",
    "\n",
    "labels = DBSCAN(eps=50, min_samples=10).fit(ones_xy_mask)\n",
    "labels = labels.labels_\n",
    "\n",
    "#     xmax, ymax = ones_xy_mask.max(axis=0)\n",
    "#     xmin, ymin = ones_xy_mask.min(axis=0)\n",
    "\n",
    "#     print(xmax, ymax)\n",
    "#     print(xmin, ymin)"
   ]
  },
  {
   "cell_type": "code",
   "execution_count": 6,
   "id": "f333ae20",
   "metadata": {},
   "outputs": [],
   "source": [
    "from scipy.spatial import ConvexHull\n",
    "\n",
    "first_cluster = ones_xy_mask[np.where(labels == 0)]\n",
    "ch = ConvexHull(first_cluster)\n",
    "contour = first_cluster[ch.vertices]"
   ]
  },
  {
   "cell_type": "code",
   "execution_count": 7,
   "id": "b1a57f2c",
   "metadata": {},
   "outputs": [
    {
     "data": {
      "image/png": "[encoded data removed]",
      "text/plain": [
       "<Figure size 432x288 with 1 Axes>"
      ]
     },
     "metadata": {
      "needs_background": "light"
     },
     "output_type": "display_data"
    }
   ],
   "source": [
    "canvas = np.zeros((512, 1024))\n",
    "cv2.drawContours(canvas, [contour], 0, color=1, thickness=-1)\n",
    "\n",
    "plt.imshow(canvas)\n",
    "plt.show()"
   ]
  },
  {
   "cell_type": "code",
   "execution_count": 8,
   "id": "fb78709d",
   "metadata": {},
   "outputs": [],
   "source": [
    "def to_blobs(mask, threshold=.5, blobber=DBSCAN):\n",
    "    \"\"\"\n",
    "    \"\"\"\n",
    "    canvas = np.zeros(mask.shape)\n",
    "    contours = []\n",
    "    \n",
    "    # get all positive prediction coordinates\n",
    "    coords = np.flip(np.column_stack(np.where(mask > threshold)), axis=1)\n",
    "    \n",
    "    # use clustering algorithm to find labels per pixel coordinate\n",
    "    clustering = blobber(eps=50, min_samples=10).fit(coords)\n",
    "    coord_labels = clustering.labels_\n",
    "    \n",
    "    # get non noisy cluster labels\n",
    "    labels = np.unique(coord_labels)\n",
    "    labels = labels[labels >= 0]\n",
    "    \n",
    "    for label in labels:\n",
    "        cluster = coords[coord_labels == label]\n",
    "        contour = cluster[ConvexHull(cluster).vertices]\n",
    "        \n",
    "        contours.append(contour)\n",
    "    \n",
    "    return cv2.drawContours(canvas, contours, -1, 1, -1)\n",
    "    "
   ]
  },
  {
   "cell_type": "code",
   "execution_count": 9,
   "id": "569a8839",
   "metadata": {},
   "outputs": [
    {
     "data": {
      "image/png": "[encoded data removed]",
      "text/plain": [
       "<Figure size 1440x576 with 2 Axes>"
      ]
     },
     "metadata": {},
     "output_type": "display_data"
    },
    {
     "data": {
      "image/png": "[encoded data removed]",
      "text/plain": [
       "<Figure size 1440x576 with 1 Axes>"
      ]
     },
     "metadata": {},
     "output_type": "display_data"
    },
    {
     "data": {
      "text/plain": [
       "0.7405475532491537"
      ]
     },
     "execution_count": 9,
     "metadata": {},
     "output_type": "execute_result"
    }
   ],
   "source": [
    "idx = 84\n",
    "\n",
    "mask_blobs = to_blobs(data[idx][1].squeeze())\n",
    "pred_blobs = to_blobs(preds[idx].numpy())\n",
    "\n",
    "pred_blobs[pred_blobs == 0] = -1\n",
    "\n",
    "blob_overlap = (mask_blobs - pred_blobs)\n",
    "\n",
    "visualize(mask=mask_blobs, prediction=pred_blobs)\n",
    "visualize(blob_overlap=blob_overlap)\n",
    "\n",
    "np.count_nonzero(blob_overlap == 0) / np.count_nonzero(mask_blobs == 1)"
   ]
  },
  {
   "cell_type": "code",
   "execution_count": null,
   "id": "6eab525d",
   "metadata": {},
   "outputs": [],
   "source": []
  }
 ],
 "metadata": {
  "kernelspec": {
   "display_name": "Python 3 (ipykernel)",
   "language": "python",
   "name": "python3"
  },
  "language_info": {
   "codemirror_mode": {
    "name": "ipython",
    "version": 3
   },
   "file_extension": ".py",
   "mimetype": "text/x-python",
   "name": "python",
   "nbconvert_exporter": "python",
   "pygments_lexer": "ipython3",
   "version": "3.8.12"
  }
 },
 "nbformat": 4,
 "nbformat_minor": 5
}
